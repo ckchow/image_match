{
 "cells": [
  {
   "cell_type": "code",
   "execution_count": 188,
   "metadata": {
    "collapsed": false
   },
   "outputs": [],
   "source": [
    "import matplotlib\n",
    "matplotlib.use('TkAgg')\n",
    "\n",
    "import matplotlib.pyplot as plt\n",
    "\n",
    "%matplotlib inline\n",
    "\n",
    "from PIL import Image\n",
    "from pathlib2 import Path\n",
    "import cv2\n",
    "import pandas as pd\n",
    "import seaborn as sns\n",
    "import numpy as np\n",
    "from skimage.morphology import convex_hull_image"
   ]
  },
  {
   "cell_type": "code",
   "execution_count": 9,
   "metadata": {
    "collapsed": false
   },
   "outputs": [
    {
     "name": "stdout",
     "output_type": "stream",
     "text": [
      "original 1788, modified 1788\n"
     ]
    }
   ],
   "source": [
    "original_image_dir = Path('original_images/')\n",
    "modified_image_dir = Path('modified_images/')\n",
    "\n",
    "original_image_paths = list(original_image_dir.glob('*.png'))\n",
    "modified_image_paths = list(modified_image_dir.glob('*.png'))\n",
    "\n",
    "print 'original {}, modified {}'.format(len(original_image_paths), \n",
    "                                        len(modified_image_paths))"
   ]
  },
  {
   "cell_type": "code",
   "execution_count": 16,
   "metadata": {
    "collapsed": false
   },
   "outputs": [
    {
     "data": {
      "text/plain": [
       "(357, 500, 3)"
      ]
     },
     "execution_count": 16,
     "metadata": {},
     "output_type": "execute_result"
    }
   ],
   "source": [
    "blah = cv2.imread(str(rotated_image_name))\n",
    "blah.shape"
   ]
  },
  {
   "cell_type": "code",
   "execution_count": 22,
   "metadata": {
    "collapsed": false
   },
   "outputs": [],
   "source": [
    "# image statistics\n",
    "def image_info(filepath):\n",
    "    image = cv2.imread(str(filepath))\n",
    "    height, width, channels = image.shape\n",
    "    \n",
    "    return {'filename':str(filepath), \n",
    "            'height': height, \n",
    "            'width': width,\n",
    "            'channels': channels}\n",
    "\n",
    "\n",
    "original_dimensions = pd.DataFrame([image_info(f) for f in original_image_paths])\n",
    "modified_dimensions = pd.DataFrame([image_info(f) for f in modified_image_paths])"
   ]
  },
  {
   "cell_type": "code",
   "execution_count": 28,
   "metadata": {
    "collapsed": false
   },
   "outputs": [
    {
     "data": {
      "text/plain": [
       "<seaborn.axisgrid.JointGrid at 0x7ff75214a5d0>"
      ]
     },
     "execution_count": 28,
     "metadata": {},
     "output_type": "execute_result"
    },
    {
     "data": {
      "image/png": "[encoded data removed]",
      "text/plain": [
       "<matplotlib.figure.Figure at 0x7ff75214abd0>"
      ]
     },
     "metadata": {},
     "output_type": "display_data"
    }
   ],
   "source": [
    "sns.jointplot(data=modified_dimensions, x='width', y='height')"
   ]
  },
  {
   "cell_type": "code",
   "execution_count": 40,
   "metadata": {
    "collapsed": false
   },
   "outputs": [],
   "source": [
    "# before we get into this, let's try a perceptual hash\n",
    "import imagehash\n",
    "\n",
    "original_hashes_a = {imagehash.average_hash(Image.open(str(f))): f for f in original_image_paths}\n",
    "modified_hashes_a = {imagehash.average_hash(Image.open(str(f))): f for f in modified_image_paths}\n",
    "\n",
    "original_hashes_p = {imagehash.phash(Image.open(str(f))): f for f in original_image_paths}\n",
    "modified_hashes_p = {imagehash.phash(Image.open(str(f))): f for f in modified_image_paths}\n",
    "\n",
    "original_hashes_d = {imagehash.dhash(Image.open(str(f))): f for f in original_image_paths}\n",
    "modified_hashes_d = {imagehash.dhash(Image.open(str(f))): f for f in modified_image_paths}\n",
    "\n",
    "original_hashes_w = {imagehash.whash(Image.open(str(f))): f for f in original_image_paths}\n",
    "modified_hashes_w = {imagehash.whash(Image.open(str(f))): f for f in modified_image_paths}"
   ]
  },
  {
   "cell_type": "code",
   "execution_count": 43,
   "metadata": {
    "collapsed": false
   },
   "outputs": [
    {
     "name": "stdout",
     "output_type": "stream",
     "text": [
      "a\n",
      "1201\n",
      "p\n",
      "1229\n",
      "w\n",
      "1141\n",
      "d\n",
      "1275\n"
     ]
    }
   ],
   "source": [
    "# iterate through ohashes, trying to match\n",
    "def match(ohash, mhash):\n",
    "    unpaired = []\n",
    "    for h, f in ohash.iteritems():\n",
    "        if h not in mhash.keys():\n",
    "            unpaired.append(f)\n",
    "\n",
    "    print(len(unpaired))\n",
    "    \n",
    "\n",
    "print 'a'\n",
    "match(original_hashes_a, modified_hashes_a)\n",
    "print 'p'\n",
    "match(original_hashes_p, modified_hashes_p)\n",
    "print 'w'\n",
    "match(original_hashes_w, modified_hashes_w)\n",
    "print 'd'\n",
    "match(original_hashes_d, modified_hashes_d)"
   ]
  },
  {
   "cell_type": "markdown",
   "metadata": {},
   "source": [
    "Types of transforms\n",
    "\n",
    "- blur\n",
    "- rotate\n",
    "    - all the rotations don't pad the boundary with anything, fit a minimal area rectangle to everything non-black should get them\n",
    "- color transform (-> gray, -> weird)\n",
    "\n",
    "preprocessing pipeline\n",
    "- grayscale (undo color transforms)\n",
    "- rectify (undo rotations pt 1)\n",
    "- optionally, rotate right to make landscape\n",
    "- center crop (by percentage) (undo rotations pt 2)\n",
    "- blur and downsample to minimal size (32 x 32)\n",
    "\n",
    "calculate rmse pairwise across dataset"
   ]
  },
  {
   "cell_type": "code",
   "execution_count": 205,
   "metadata": {
    "collapsed": false
   },
   "outputs": [
    {
     "name": "stdout",
     "output_type": "stream",
     "text": [
      "[[ 71 205]\n",
      " [ 71 206]\n",
      " [ 71 207]\n",
      " ..., \n",
      " [427 435]\n",
      " [427 436]\n",
      " [427 437]]\n",
      "((248.99996948242188, 320.4999694824219), (355.99993896484375, 498.99993896484375), -0.0)\n"
     ]
    },
    {
     "data": {
      "image/png": "[encoded data removed]",
      "text/plain": [
       "<matplotlib.figure.Figure at 0x7ff74a7b1a50>"
      ]
     },
     "metadata": {},
     "output_type": "display_data"
    }
   ],
   "source": [
    "# testing preprocessing pipeline\n",
    "rotated_image_name = Path('/home/chris/project    box = np.int0(box)\n",
    "#     blah2 = np.zeros_like(image)\n",
    "#     cv2.drawContours(blah2, [box], 0, (0, 0, 255), 2)s/image_match/modified_images/fe6c006d-655b-4f69-b7d8-c8063df3d2d3.png')\n",
    "gray_image_name = Path('/home/chris/projects/image_match/modified_images/fe984cbe-8906-46eb-b4d2-c6000836fbb2.png')\n",
    "\n",
    "def process(image_path):\n",
    "    image = cv2.imread(str(image_path))\n",
    "    \n",
    "    pad_size = abs(image.shape[0] - image.shape[1]) // 2\n",
    "    \n",
    "    image = np.pad(image, ((pad_size, pad_size),\n",
    "                             (pad_size, pad_size),\n",
    "                           (0, 0)),\n",
    "                    mode='constant',\n",
    "                    constant_values=0)\n",
    "    \n",
    "    gray = cv2.cvtColor(image, cv2.COLOR_BGR2GRAY)\n",
    "    \n",
    "#     ret, thresh = cv2.threshold(gray, 170, 255, cv2.ADAPTIVE_THRESH_MEAN_C)\n",
    "    \n",
    "    \n",
    "#     edges = cv2.Canny(gray, 100, 200)\n",
    "    \n",
    "    hull = convex_hull_image(gray)\n",
    "    \n",
    "#     plt.imshow(hull)\n",
    "\n",
    "# #     print hull\n",
    "    \n",
    "#     contours, hierarchy = cv2.findContours(edges, cv2.RETR_LIST, \n",
    "#                                            method=cv2.CHAIN_APPROX_SIMPLE)\n",
    "    \n",
    "    \n",
    "    \n",
    "#     blah = np.zeros_like(image)\n",
    "#     cv2.drawContours(blah, contours, -1, (0, 255, 0), 3)\n",
    "    \n",
    "#     print len(contours)\n",
    "    \n",
    "#     plt.imshow(blah)\n",
    "\n",
    "    hull_points = np.argwhere(hull)\n",
    "    \n",
    "    print hull_points\n",
    "    \n",
    "    box = cv2.minAreaRect(hull_points)\n",
    "    \n",
    "    \n",
    "#     box = np.int0(box)\n",
    "#     blah2 = np.zeros_like(image)\n",
    "#     cv2.drawContours(blah2, [box], 0, (0, 0, 255), 2)\n",
    "    \n",
    "    plt.imshow(hull)\n",
    "    \n",
    "    print box\n",
    "    \n",
    "with sns.axes_style('white'):\n",
    "    process(rotated_image_name)"
   ]
  }
 ],
 "metadata": {
  "kernelspec": {
   "display_name": "Python 2",
   "language": "python",
   "name": "python2"
  },
  "language_info": {
   "codemirror_mode": {
    "name": "ipython",
    "version": 2
   },
   "file_extension": ".py",
   "mimetype": "text/x-python",
   "name": "python",
   "nbconvert_exporter": "python",
   "pygments_lexer": "ipython2",
   "version": "2.7.6"
  },
  "widgets": {
   "state": {},
   "version": "1.1.2"
  }
 },
 "nbformat": 4,
 "nbformat_minor": 0
}
