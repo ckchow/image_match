{
 "cells": [
  {
   "cell_type": "code",
   "execution_count": 26,
   "metadata": {
    "collapsed": false
   },
   "outputs": [],
   "source": [
    "import matplotlib\n",
    "matplotlib.use('TkAgg')\n",
    "\n",
    "import matplotlib.pyplot as plt\n",
    "\n",
    "%matplotlib inline\n",
    "\n",
    "from PIL import Image\n",
    "from pathlib2 import Path\n",
    "import cv2\n",
    "import pandas as pd\n",
    "import seaborn as sns\n",
    "\n"
   ]
  },
  {
   "cell_type": "code",
   "execution_count": 9,
   "metadata": {
    "collapsed": false
   },
   "outputs": [
    {
     "name": "stdout",
     "output_type": "stream",
     "text": [
      "original 1788, modified 1788\n"
     ]
    }
   ],
   "source": [
    "original_image_dir = Path('original_images/')\n",
    "modified_image_dir = Path('modified_images/')\n",
    "\n",
    "original_image_paths = list(original_image_dir.glob('*.png'))\n",
    "modified_image_paths = list(modified_image_dir.glob('*.png'))\n",
    "\n",
    "print 'original {}, modified {}'.format(len(original_image_paths), \n",
    "                                        len(modified_image_paths))"
   ]
  },
  {
   "cell_type": "code",
   "execution_count": 16,
   "metadata": {
    "collapsed": false
   },
   "outputs": [
    {
     "data": {
      "text/plain": [
       "(357, 500, 3)"
      ]
     },
     "execution_count": 16,
     "metadata": {},
     "output_type": "execute_result"
    }
   ],
   "source": [
    "blah = cv2.imread(str(rotated_image_name))\n",
    "blah.shape"
   ]
  },
  {
   "cell_type": "markdown",
   "metadata": {},
   "source": [
    "Types of transforms\n",
    "\n",
    "- blur\n",
    "- rotate\n",
    "    - all the rotations don't pad the boundary with anything, fit a minimal area rectangle to everything non-black should get them\n",
    "- color transform (-> gray, -> weird)\n",
    "\n",
    "preprocessing pipeline\n",
    "- grayscale (undo color transforms)\n",
    "- rectify (undo rotations pt 1)\n",
    "- optionally, rotate right to make landscape\n",
    "- center crop (by percentage) (undo rotations pt 2)\n",
    "- blur and downsample to minimal size (determined from corpus)\n",
    "\n",
    "calculate rmse pairwise across dataset"
   ]
  },
  {
   "cell_type": "code",
   "execution_count": 22,
   "metadata": {
    "collapsed": false
   },
   "outputs": [],
   "source": [
    "# image statistics\n",
    "def image_info(filepath):\n",
    "    image = cv2.imread(str(filepath))\n",
    "    height, width, channels = image.shape\n",
    "    \n",
    "    return {'filename':str(filepath), \n",
    "            'height': height, \n",
    "            'width': width,\n",
    "            'channels': channels}\n",
    "\n",
    "\n",
    "original_dimensions = pd.DataFrame([image_info(f) for f in original_image_paths])\n",
    "modified_dimensions = pd.DataFrame([image_info(f) for f in modified_image_paths])"
   ]
  },
  {
   "cell_type": "code",
   "execution_count": 28,
   "metadata": {
    "collapsed": false
   },
   "outputs": [
    {
     "data": {
      "text/plain": [
       "<seaborn.axisgrid.JointGrid at 0x7ff75214a5d0>"
      ]
     },
     "execution_count": 28,
     "metadata": {},
     "output_type": "execute_result"
    },
    {
     "data": {
      "image/png": "[encoded data removed]",
      "text/plain": [
       "<matplotlib.figure.Figure at 0x7ff75214abd0>"
      ]
     },
     "metadata": {},
     "output_type": "display_data"
    }
   ],
   "source": [
    "sns.jointplot(data=modified_dimensions, x='width', y='height')"
   ]
  },
  {
   "cell_type": "code",
   "execution_count": 29,
   "metadata": {
    "collapsed": true
   },
   "outputs": [],
   "source": [
    "# before we get into this, let's try a perceptual hash\n"
   ]
  },
  {
   "cell_type": "code",
   "execution_count": 17,
   "metadata": {
    "collapsed": true
   },
   "outputs": [],
   "source": [
    "# testing preprocessing pipeline\n",
    "rotated_image_name = Path('/home/chris/projects/image_match/modified_images/fe6c006d-655b-4f69-b7d8-c8063df3d2d3.png')\n",
    "gray_image_name = Path('/home/chris/projects/image_match/modified_images/fe984cbe-8906-46eb-b4d2-c6000836fbb2.png')"
   ]
  }
 ],
 "metadata": {
  "kernelspec": {
   "display_name": "Python 2",
   "language": "python",
   "name": "python2"
  },
  "language_info": {
   "codemirror_mode": {
    "name": "ipython",
    "version": 2
   },
   "file_extension": ".py",
   "mimetype": "text/x-python",
   "name": "python",
   "nbconvert_exporter": "python",
   "pygments_lexer": "ipython2",
   "version": "2.7.6"
  },
  "widgets": {
   "state": {},
   "version": "1.1.2"
  }
 },
 "nbformat": 4,
 "nbformat_minor": 0
}
